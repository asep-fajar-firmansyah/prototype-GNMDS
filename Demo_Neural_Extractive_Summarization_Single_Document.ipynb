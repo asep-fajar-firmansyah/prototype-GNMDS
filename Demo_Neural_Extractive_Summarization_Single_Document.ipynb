{
  "nbformat": 4,
  "nbformat_minor": 0,
  "metadata": {
    "colab": {
      "name": "Demo Neural Extractive Summarization - Single Document.ipynb",
      "provenance": [],
      "collapsed_sections": [],
      "machine_shape": "hm"
    },
    "kernelspec": {
      "name": "python3",
      "display_name": "Python 3"
    }
  },
  "cells": [
    {
      "cell_type": "markdown",
      "metadata": {
        "id": "vErJHiISK_i4",
        "colab_type": "text"
      },
      "source": [
        "**Synchronize to Google Drive**\n",
        "\n",
        "This feature makes the google colab to connect to the google drive with mounting GDrive and defining the path."
      ]
    },
    {
      "cell_type": "code",
      "metadata": {
        "id": "zQhvn8KgsHSV",
        "colab_type": "code",
        "outputId": "52e7ff19-36c1-473f-baad-5a33f038a995",
        "colab": {
          "base_uri": "https://localhost:8080/",
          "height": 122
        }
      },
      "source": [
        "# Synchronize to google drive, define the root path\n",
        "import os\n",
        "\n",
        "google_colab  = True\n",
        "if google_colab == True:\n",
        "  #This statement used to pointing the google drive storage \n",
        "  from google.colab import drive\n",
        "  drive.mount('/content/gdrive')\n",
        "  root_path = 'gdrive/My Drive/Colab Notebooks/'\n",
        "\n",
        "  #This statement is purposed to import library from the Drive\n",
        "  os.chdir('gdrive/My Drive/Colab Notebooks/')\n",
        "  "
      ],
      "execution_count": 1,
      "outputs": [
        {
          "output_type": "stream",
          "text": [
            "Go to this URL in a browser: https://accounts.google.com/o/oauth2/auth?client_id=947318989803-6bn6qk8qdgf4n4g3pfee6491hc0brc4i.apps.googleusercontent.com&redirect_uri=urn%3aietf%3awg%3aoauth%3a2.0%3aoob&response_type=code&scope=email%20https%3a%2f%2fwww.googleapis.com%2fauth%2fdocs.test%20https%3a%2f%2fwww.googleapis.com%2fauth%2fdrive%20https%3a%2f%2fwww.googleapis.com%2fauth%2fdrive.photos.readonly%20https%3a%2f%2fwww.googleapis.com%2fauth%2fpeopleapi.readonly\n",
            "\n",
            "Enter your authorization code:\n",
            "··········\n",
            "Mounted at /content/gdrive\n"
          ],
          "name": "stdout"
        }
      ]
    },
    {
      "cell_type": "code",
      "metadata": {
        "id": "xggShlKKmbXq",
        "colab_type": "code",
        "outputId": "130dc090-43e6-46ed-fc5e-71d1da5c4409",
        "colab": {
          "base_uri": "https://localhost:8080/",
          "height": 63
        }
      },
      "source": [
        "import tensorflow as tf\n",
        "tf.enable_eager_execution()\n",
        "import numpy as np\n",
        "np.random.seed(0)\n",
        "from tensorflow.keras.layers import Input, LSTM, Embedding, Dense, Concatenate, TimeDistributed, Bidirectional, GRU, Activation, Flatten\n",
        "from tensorflow.keras.models import Model\n",
        "#from keras.models import Model\n",
        "#from keras.layers import Dense, Input, Dropout, LSTM, Activation, Flatten, GRU, Concatenate\n",
        "from tensorflow.keras.preprocessing import sequence\n",
        "from tensorflow.keras.initializers import glorot_uniform\n",
        "from tensorflow.keras.callbacks import EarlyStopping\n",
        "np.random.seed(1)"
      ],
      "execution_count": 2,
      "outputs": [
        {
          "output_type": "display_data",
          "data": {
            "text/html": [
              "<p style=\"color: red;\">\n",
              "The default version of TensorFlow in Colab will soon switch to TensorFlow 2.x.<br>\n",
              "We recommend you <a href=\"https://www.tensorflow.org/guide/migrate\" target=\"_blank\">upgrade</a> now \n",
              "or ensure your notebook will continue to use TensorFlow 1.x via the <code>%tensorflow_version 1.x</code> magic:\n",
              "<a href=\"https://colab.research.google.com/notebooks/tensorflow_version.ipynb\" target=\"_blank\">more info</a>.</p>\n"
            ],
            "text/plain": [
              "<IPython.core.display.HTML object>"
            ]
          },
          "metadata": {
            "tags": []
          }
        }
      ]
    },
    {
      "cell_type": "markdown",
      "metadata": {
        "id": "jldpyssVMSLB",
        "colab_type": "text"
      },
      "source": [
        "**Loading the dataset**\n",
        "\n",
        "Currently, The experiment is using the dataset from CNN/Daily News. It designed to support Extractive Summarization method in which extract all of documents through pre-processing and store all of sentences to cnn-sentences.pkl and each of sentence has labeled based on whether its sentence is similar or exist on the summaries/highlight (labeled 1) or no (labeled 0)"
      ]
    },
    {
      "cell_type": "code",
      "metadata": {
        "colab_type": "code",
        "outputId": "a6047df6-999a-422f-ff3c-4dc02013e61a",
        "id": "mwkgFuLwH3lw",
        "colab": {
          "base_uri": "https://localhost:8080/",
          "height": 68
        }
      },
      "source": [
        "import nltk\n",
        "import collections\n",
        "import pickle #data preprocessing\n",
        "from tensorflow.keras.preprocessing.text import Tokenizer\n",
        "nltk.download('punkt')\n",
        "NUM_WORDS=25000\n",
        "counter = collections.Counter()\n",
        "print('Dataset loading ...')\n",
        "#import postprocessing as pr #helper\n",
        "#Step 1 - Load data\n",
        "#Step 1 - Load data\n",
        "with open('datasets/dataset-duc2001.pkl', 'rb') as fp:\n",
        "    data_2001 = pickle.load(fp)\n",
        "\n",
        "with open('datasets/dataset-duc2002.pkl', 'rb') as fp:\n",
        "    data_2002 = pickle.load(fp)\n",
        "\n",
        "clusterSentences_2001, clusterDocuments_2001, clusterSummaries_2001, listY_2001 = data_2001\n",
        "clusterSentences_2002, clusterDocuments_2002, clusterSummaries_2002, listY_2002 = data_2002\n",
        "\n",
        "clusterSentences = clusterSentences_2001 + clusterSentences_2002\n",
        "listY = listY_2001 + listY_2002\n",
        "\n",
        "# Extract to become one bucket of sentences\n",
        "sentences = []\n",
        "for clusterSentence in clusterSentences:\n",
        "  for sentence in clusterSentence:\n",
        "    sentences.append(sentence)\n",
        "\n",
        "tokenizer = Tokenizer(num_words=NUM_WORDS,filters='!\"#$%&()*+,-./:;<=>?@[\\\\]^_`{|}~\\t\\n\\'',lower=True)\n",
        "tokenizer.fit_on_texts(sentences)\n",
        "word_index = tokenizer.word_index\n",
        "index_word = tokenizer.index_word\n",
        "index_docs = tokenizer.index_docs\n",
        "vocabularySize = len(word_index) + 1\n",
        "\n",
        "#nWord = [len(sentence.split()) for sentence in sentences]\n",
        "#nWord = sorted(nWord,  reverse=True)\n",
        "#words = [sentence.split() for sentence in sentences]\n",
        "#nWord = [len(sentence.split()) for sentence in sentences]\n",
        "#maxlen = max(nWord)\n",
        "sentenceLength = 200"
      ],
      "execution_count": 3,
      "outputs": [
        {
          "output_type": "stream",
          "text": [
            "[nltk_data] Downloading package punkt to /root/nltk_data...\n",
            "[nltk_data]   Unzipping tokenizers/punkt.zip.\n",
            "Dataset loading ...\n"
          ],
          "name": "stdout"
        }
      ]
    },
    {
      "cell_type": "markdown",
      "metadata": {
        "id": "4rCPNnRVSZIM",
        "colab_type": "text"
      },
      "source": [
        "**Load Pre-trained Word2Vec**"
      ]
    },
    {
      "cell_type": "code",
      "metadata": {
        "id": "rW7ocOcLs1q6",
        "colab_type": "code",
        "outputId": "78eeec12-c095-484f-e142-c2c093bad6d7",
        "colab": {
          "base_uri": "https://localhost:8080/",
          "height": 71
        }
      },
      "source": [
        "from gensim.models import KeyedVectors\n",
        "WORD2VEC_MODEL = \"word-embeddings/word2vec/GoogleNews-vectors-negative300.bin.gz\"\n",
        "word2vec = KeyedVectors.load_word2vec_format(WORD2VEC_MODEL, binary=True)"
      ],
      "execution_count": 5,
      "outputs": [
        {
          "output_type": "stream",
          "text": [
            "/usr/local/lib/python3.6/dist-packages/smart_open/smart_open_lib.py:402: UserWarning: This function is deprecated, use smart_open.open instead. See the migration notes for details: https://github.com/RaRe-Technologies/smart_open/blob/master/README.rst#migrating-to-the-new-open-function\n",
            "  'See the migration notes for details: %s' % _MIGRATION_NOTES_URL\n"
          ],
          "name": "stderr"
        }
      ]
    },
    {
      "cell_type": "markdown",
      "metadata": {
        "id": "UmG7pJGJUsOP",
        "colab_type": "text"
      },
      "source": [
        "**Embedding Layer**\n",
        "\n",
        "This function is used to embed pre-trained word2vec as defined before"
      ]
    },
    {
      "cell_type": "code",
      "metadata": {
        "id": "y7VbvoD5uhoz",
        "colab_type": "code",
        "colab": {}
      },
      "source": [
        "# GRADED FUNCTION: pretrained_embedding_layer\n",
        "def pretrained_embedding_layer(word_to_vec_map, word_to_index):\n",
        "    \"\"\"\n",
        "    Creates a Keras Embedding() layer and loads in pre-trained GloVe 50-dimensional vectors.\n",
        "    \n",
        "    Arguments:\n",
        "    word_to_vec_map -- dictionary mapping words to their GloVe vector representation.\n",
        "    word_to_index -- dictionary mapping from words to their indices in the vocabulary (400,001 words)\n",
        "\n",
        "    Returns:\n",
        "    embedding_layer -- pretrained layer Keras instance\n",
        "    \"\"\"\n",
        "    \n",
        "    vocab_len = len(word_to_index) + 1                  # adding 1 to fit Keras embedding (requirement)\n",
        "    emb_dim = word_to_vec_map[\"cucumber\"].shape[0]      # define dimensionality of your GloVe word vectors (= 50)\n",
        "    \n",
        "    ### START CODE HERE ###\n",
        "    # Initialize the embedding matrix as a numpy array of zeros of shape (vocab_len, dimensions of word vectors = emb_dim)\n",
        "    emb_matrix = np.zeros((vocab_len, emb_dim))\n",
        "    \n",
        "    # Set each row \"index\" of the embedding matrix to be the word vector representation of the \"index\"th word of the vocabulary\n",
        "    for word, index in word_to_index.items():\n",
        "        try:\n",
        "          emb_matrix[index, :] = word_to_vec_map[word]\n",
        "        except:\n",
        "          emb_matrix[index, :] = 0\n",
        "\n",
        "    # Define Keras embedding layer with the correct output/input sizes, make it non-trainable. Use Embedding(...). Make sure to set trainable=False. \n",
        "    embedding_layer = Embedding(vocab_len, emb_dim, trainable=False)\n",
        "    ### END CODE HERE ###\n",
        "\n",
        "    # Build the embedding layer, it is required before setting the weights of the embedding layer. Do not modify the \"None\".\n",
        "    embedding_layer.build((None,))\n",
        "    \n",
        "    # Set the weights of the embedding layer to the embedding matrix. Your layer is now pretrained.\n",
        "    embedding_layer.set_weights([emb_matrix])\n",
        "    \n",
        "    return embedding_layer"
      ],
      "execution_count": 0,
      "outputs": []
    },
    {
      "cell_type": "code",
      "metadata": {
        "id": "G72hOeIIybu6",
        "colab_type": "code",
        "colab": {}
      },
      "source": [
        "embedding_layer = pretrained_embedding_layer(word2vec, word_index)"
      ],
      "execution_count": 0,
      "outputs": []
    },
    {
      "cell_type": "markdown",
      "metadata": {
        "id": "hzSt_ckVVQUx",
        "colab_type": "text"
      },
      "source": [
        "**Model 3 (GRU with Attention)**"
      ]
    },
    {
      "cell_type": "code",
      "metadata": {
        "id": "CgbMZUJjTMNs",
        "colab_type": "code",
        "colab": {}
      },
      "source": [
        "def model_3(input_shape, word_to_vec_map, word_to_index):\n",
        "    \"\"\"\n",
        "    Function creating the Emojify-v2 model's graph.\n",
        "    \n",
        "    Arguments:\n",
        "    input_shape -- shape of the input, usually (max_len,)\n",
        "    word_to_vec_map -- dictionary mapping every word in a vocabulary into its 50-dimensional vector representation\n",
        "    word_to_index -- dictionary mapping from words to their indices in the vocabulary (400,001 words)\n",
        "\n",
        "    Returns:\n",
        "    model -- a model instance in Keras\n",
        "    \"\"\"\n",
        "    emb_dim=300\n",
        "    encoder_inputs = Input(input_shape, dtype='int32')\n",
        "    \n",
        "    embedding_layer = pretrained_embedding_layer(word_to_vec_map, word_to_index)\n",
        "    \n",
        "    embeddings = embedding_layer(encoder_inputs)  \n",
        "    \n",
        "    # Sentence Embedding\n",
        "    GRUsents = GRU(300, return_sequences=True, return_state=True, dropout=0.2, recurrent_dropout=0.2) \n",
        "    sentence_embedding, state_h =  GRUsents(embeddings)\n",
        "    \n",
        "    # Document Embedding\n",
        "    GRUdocs = GRU(300, return_sequences=False, return_state=False, dropout=0.2, recurrent_dropout=0.2)\n",
        "    output = GRUdocs(sentence_embedding)\n",
        "    \n",
        "    X = Dense(2)(output)\n",
        "    X = Activation('softmax')(X)\n",
        "    \n",
        "    # Create Model instance which converts sentence_indices into X.\n",
        "    model = Model(inputs=encoder_inputs, outputs=X)\n",
        "    ### END CODE HERE ###\n",
        "    \n",
        "    return model"
      ],
      "execution_count": 0,
      "outputs": []
    },
    {
      "cell_type": "markdown",
      "metadata": {
        "id": "1oseRQchVY6Q",
        "colab_type": "text"
      },
      "source": [
        "**Build the model and summary**"
      ]
    },
    {
      "cell_type": "code",
      "metadata": {
        "id": "y3iLZXoX0Dco",
        "colab_type": "code",
        "outputId": "70b1deb7-e777-4c92-c3e9-be356825fe95",
        "colab": {
          "base_uri": "https://localhost:8080/",
          "height": 357
        }
      },
      "source": [
        "model = model_3((sentenceLength,), word2vec, word_index)\n",
        "model.summary()\n"
      ],
      "execution_count": 20,
      "outputs": [
        {
          "output_type": "stream",
          "text": [
            "Model: \"model_1\"\n",
            "_________________________________________________________________\n",
            "Layer (type)                 Output Shape              Param #   \n",
            "=================================================================\n",
            "input_3 (InputLayer)         [(None, 200)]             0         \n",
            "_________________________________________________________________\n",
            "embedding_3 (Embedding)      (None, 200, 300)          9111900   \n",
            "_________________________________________________________________\n",
            "gru_4 (GRU)                  [(None, 200, 300), (None, 540900    \n",
            "_________________________________________________________________\n",
            "gru_5 (GRU)                  (None, 300)               540900    \n",
            "_________________________________________________________________\n",
            "dense_2 (Dense)              (None, 2)                 602       \n",
            "_________________________________________________________________\n",
            "activation_1 (Activation)    (None, 2)                 0         \n",
            "=================================================================\n",
            "Total params: 10,194,302\n",
            "Trainable params: 1,082,402\n",
            "Non-trainable params: 9,111,900\n",
            "_________________________________________________________________\n"
          ],
          "name": "stdout"
        }
      ]
    },
    {
      "cell_type": "markdown",
      "metadata": {
        "id": "u1lRfP-iVfNf",
        "colab_type": "text"
      },
      "source": [
        "**Compile the Model and Train the Model**"
      ]
    },
    {
      "cell_type": "code",
      "metadata": {
        "id": "1U52yXyq0HpT",
        "colab_type": "code",
        "colab": {}
      },
      "source": [
        "from tensorflow.keras.optimizers import Adam\n",
        "model.compile(loss='categorical_crossentropy', optimizer=Adam(lr=0.001, clipnorm=1.0), metrics=['accuracy'])"
      ],
      "execution_count": 0,
      "outputs": []
    },
    {
      "cell_type": "code",
      "metadata": {
        "id": "00p3_zy00TNY",
        "colab_type": "code",
        "outputId": "18539c42-efd4-4257-f941-a752561ff96a",
        "colab": {
          "base_uri": "https://localhost:8080/",
          "height": 85
        }
      },
      "source": [
        "def convert_to_one_hot(Y, C):\n",
        "    Y = np.eye(C)[Y.reshape(-1)]\n",
        "    return Y\n",
        "    \n",
        "from keras.preprocessing.sequence import pad_sequences\n",
        "from keras.utils import np_utils\n",
        "from sklearn.model_selection import train_test_split\n",
        "xs, ys = [], []\n",
        "print(len(sentences))\n",
        "for sentence in sentences:\n",
        "  words = [x.lower() for x in sentence.split()]\n",
        "  wids = [word_index[word] for word in words]\n",
        "  xs.append(wids)\n",
        "\n",
        "ys = []\n",
        "for clusterY in listY:\n",
        "  for sentenceY in clusterY:\n",
        "    ys.append(sentenceY)\n",
        "\n",
        "X = pad_sequences(xs, maxlen=sentenceLength)\n",
        "Y = np.array(ys)\n",
        "print(Y[0])\n",
        "Xtrain, Xtest, Ytrain, Ytest = train_test_split(X, Y, test_size=0.02, random_state=1)\n",
        "Y_train_oh = convert_to_one_hot(Ytrain, C = 2)\n",
        "Y_test_oh = convert_to_one_hot(Ytest, C = 2)\n",
        "\n",
        "print(Y_train_oh[0])\n",
        "print(Y_test_oh[0])\n",
        "#Y_train_oh = Y_train_oh.reshape(Y_train_oh.shape[0], Y_train_oh.shape[1], 1)\n",
        "#Y_test_oh = Y_test_oh.reshape(Y_test_oh.shape[0], Y_test_oh.shape[1], 1)\n",
        "#print(Y_train_oh[0])\n",
        "#print(Y_test_oh[0])"
      ],
      "execution_count": 22,
      "outputs": [
        {
          "output_type": "stream",
          "text": [
            "28787\n",
            "0\n",
            "[1. 0.]\n",
            "[1. 0.]\n"
          ],
          "name": "stdout"
        }
      ]
    },
    {
      "cell_type": "code",
      "metadata": {
        "id": "3I6Z-Z551GP3",
        "colab_type": "code",
        "outputId": "74b1523e-5887-4964-9663-041904eecd32",
        "colab": {
          "base_uri": "https://localhost:8080/",
          "height": 360
        }
      },
      "source": [
        "es = EarlyStopping(monitor='val_loss', mode='min', verbose=1)\n",
        "history = model.fit(Xtrain,Y_train_oh, epochs = 20, batch_size = 512, validation_data=(Xtest, Y_test_oh), callbacks=[es])\n",
        "score = model.evaluate(Xtest, Y_test_oh, verbose=1)\n",
        "print(\"Test score: {:.3f}, accuracy: {:.3f}\".format(score[0], score[1]))\n",
        "\n",
        "with open('rnn/models/model2-trainHistoryDict', 'wb') as file_pi:\n",
        "  pickle.dump(history.history, file_pi)\n",
        "  print(\"Saved training history to disk\")"
      ],
      "execution_count": 23,
      "outputs": [
        {
          "output_type": "stream",
          "text": [
            "Train on 28211 samples, validate on 576 samples\n",
            "Epoch 1/20\n",
            "28211/28211 [==============================] - 620s 22ms/sample - loss: 0.2344 - acc: 0.9402 - val_loss: 0.2282 - val_acc: 0.9375\n",
            "Epoch 2/20\n",
            "28211/28211 [==============================] - 613s 22ms/sample - loss: 0.2022 - acc: 0.9434 - val_loss: 0.2083 - val_acc: 0.9375\n",
            "Epoch 3/20\n",
            "28211/28211 [==============================] - 612s 22ms/sample - loss: 0.1719 - acc: 0.9436 - val_loss: 0.1928 - val_acc: 0.9375\n",
            "Epoch 4/20\n",
            "28211/28211 [==============================] - 612s 22ms/sample - loss: 0.1670 - acc: 0.9436 - val_loss: 0.1816 - val_acc: 0.9375\n",
            "Epoch 5/20\n",
            "28211/28211 [==============================] - 612s 22ms/sample - loss: 0.1606 - acc: 0.9444 - val_loss: 0.1812 - val_acc: 0.9375\n",
            "Epoch 6/20\n",
            "28211/28211 [==============================] - 615s 22ms/sample - loss: 0.1560 - acc: 0.9449 - val_loss: 0.1756 - val_acc: 0.9392\n",
            "Epoch 7/20\n",
            "28211/28211 [==============================] - 613s 22ms/sample - loss: 0.1520 - acc: 0.9448 - val_loss: 0.1799 - val_acc: 0.9392\n",
            "Epoch 00007: early stopping\n",
            "576/1 [================================================================================================================================================================================================================================================================================================================================================================================================================================================================================================================================================================================================================================================================================================================================================================================================================================================================================================================================================================================================================================================================================================================================================================================================================================================================================================================================================================================================================================================================================================================================================================================================================================================================================================================================================================================================================================================================================================================================================================================================================================================================================================================================================================================================================================================================================================================================================================================================================================================================================================================================================================================================================================================================================================================================================================================================================================================================================================================================================================================================================================================================================================================================================================================================================================================================================================================================================================================================================================================================================================================================================================================================================================================================================================================================================================================================================================================================================================================================================================================================================================================================================================================================================================================================================================================================================================================================================================================================================================================================================================================================================================================================================================================================================================================================================================================================================================================================================================================================================================================================================================================================================================================================================================================================================================================================================================================================================================================================================================================================================================================================================================================================================================================================================================================================================================================================================================================================================================================================================================================================================================================================================================================================================================================================================================================================================================================================================================================================================================================================================================================================================================================================================================================================================================================================================================================================================================================================================================================================================================================================================================================================================================================================================================================================================================================================================================================================================================================================================================================================================================================================================================================================================================================================================================================================================================================================================================================================================================================================================================================================================================================================================================================================================================================================================================================================================================================================================================================================================================================================================================================================================================================================================================================================================================================================================================================================================================================================================================================================================================================================================================================================================================================================================================================================================================================================================================================================================================================================================================================================================================================================================================================================================================================================================================================================================================================================================================================================================================================================================================================================================================================================================================================================================================================================================================================================================================================================================================================================================================================================================================================================================================================================================================================================================================================================================================================================================================================================================================================================================================================================================================================================================================================================================================================================================================================================================================================================================================================================================================================================================================================================================================================================================================================================================================================================================================================================================================================================================================================================================================================================================================================================================================================================================================================================================================================================================================================================================================================================================================================================================================================================================================================================================================================================================================================================================================================================================================================================================================================================================================================================================================================================================================================================================================================================================================================================================================================================================================================================================================================================================================================================================================================================================================================================================================================================================================================================================================================================================================================================================================================================================================================================================================================================================================================================================================================================================================================================================================================================================================================================================================================================================================================================================================================================================================================================================================================================================================================================================================================================================================================================================================================================================================================================================================================================================================================================================================================================================================================================================================================================================================================================================================================================================================================================================================================================================================================================================================================================================================================================================================================================================================================================================================================================================================================================================================================================================================================================================================================================================================================================================================================================================================================================================================================================================================================================================================================================================================================================================================================================================================================================================================================================================================================================================================================================================================================================================================================================================================================================================================================================================================================================================================================================================================================================================================================================================================================================================================================================================================================================================================================================] - 8s 15ms/sample - loss: 0.1071 - acc: 0.9392\n",
            "Test score: 0.180, accuracy: 0.939\n",
            "Saved training history to disk\n"
          ],
          "name": "stdout"
        }
      ]
    },
    {
      "cell_type": "code",
      "metadata": {
        "id": "8CZMK2m41g_L",
        "colab_type": "code",
        "outputId": "9c5f50ed-c92c-4629-a020-b53c99f79b9e",
        "colab": {
          "base_uri": "https://localhost:8080/",
          "height": 577
        }
      },
      "source": [
        "from matplotlib import pyplot\n",
        "fig = pyplot.figure()\n",
        "pyplot.plot(history.history['loss'], label='train') \n",
        "pyplot.plot(history.history['val_loss'], label='test') \n",
        "pyplot.title('Training and validation loss')\n",
        "pyplot.xlabel('Épochs')\n",
        "pyplot.ylabel('Loss')\n",
        "pyplot.legend() \n",
        "pyplot.show()\n",
        "#fname='training-and-validation-loss-model2.jpg'\n",
        "#fig.savefig(fname)\n",
        "\n",
        "fig2 = pyplot.figure()\n",
        "pyplot.plot(history.history['acc'], label='train') \n",
        "pyplot.plot(history.history['val_acc'], label='test') \n",
        "pyplot.title('Training and validation accuracy')\n",
        "pyplot.xlabel('Épochs')\n",
        "pyplot.ylabel('Accuracy')\n",
        "pyplot.legend(loc='lower right')\n",
        "pyplot.ylim((0.5, 1))\n",
        "pyplot.show()\n",
        "#fname='training-and-validation-accuracy-model2.jpg'\n",
        "#fig2.savefig(fname)"
      ],
      "execution_count": 24,
      "outputs": [
        {
          "output_type": "display_data",
          "data": {
            "image/png": "[encoded data removed]",
            "text/plain": [
              "<Figure size 432x288 with 1 Axes>"
            ]
          },
          "metadata": {
            "tags": []
          }
        },
        {
          "output_type": "display_data",
          "data": {
            "image/png": "[encoded data removed]",
            "text/plain": [
              "<Figure size 432x288 with 1 Axes>"
            ]
          },
          "metadata": {
            "tags": []
          }
        }
      ]
    },
    {
      "cell_type": "markdown",
      "metadata": {
        "id": "EET2jJrdVsyG",
        "colab_type": "text"
      },
      "source": [
        "**Model Prediction**"
      ]
    },
    {
      "cell_type": "code",
      "metadata": {
        "id": "d63JR7ReDXEe",
        "colab_type": "code",
        "outputId": "b7d87a0f-8ea6-4f47-b3b5-548e1cfe03c6",
        "colab": {
          "base_uri": "https://localhost:8080/",
          "height": 190
        }
      },
      "source": [
        "test_docs = clusterSentences[15]\n",
        "xs_test=[]\n",
        "#print(len(test_docs))\n",
        "for sentence in test_docs:\n",
        "  words = [x.lower() for x in nltk.word_tokenize(sentence)]\n",
        "  wids = [word_index[word] for word in words]\n",
        "  xs_test.append(wids)\n",
        "X_Test = pad_sequences(xs_test, maxlen=sentenceLength)\n",
        "Y_Test = np.array(listY[0])\n",
        "pred = model.predict(X_Test)\n",
        "sentence_test = []\n",
        "salience_score_list = {}\n",
        "score_list = []\n",
        "for i in range(len(X_Test)):\n",
        "    num = np.argmax(pred[i])\n",
        "    pred_num = pred[i]\n",
        "    sentence_list = []\n",
        "    for idx in X_Test[i]:\n",
        "      if idx != 0:\n",
        "        sentence_list.append(index_word[idx])\n",
        "    sentence_list = ' '.join(sentence_list)\n",
        "    salience_score_list[sentence_list] = pred_num[1]\n",
        "    sentence_test.append(sentence_list)\n",
        "\n",
        "ordering = sorted(salience_score_list, key=lambda k: salience_score_list[k],  reverse=True)\n",
        "summary_list = []\n",
        "sentence_length = 0\n",
        "for sent in ordering:\n",
        "  length = len(sent.split())\n",
        "  if (length > 5 and length < 55):\n",
        "    if sentence_length <= 88:\n",
        "      #print(len(sent.split()))\n",
        "      summary_list.append(sent)\n",
        "      sentence_length += length\n",
        "summary = ' '.join(summary_list)\n",
        "print('Predicted Summary:')\n",
        "print(summary)\n",
        "print()\n",
        "print('Length of summary',len(summary.split()))\n",
        "print()\n",
        "print('The summary sentences salience score:')\n",
        "for sent in summary_list:\n",
        "  print(salience_score_list[sent])"
      ],
      "execution_count": 51,
      "outputs": [
        {
          "output_type": "stream",
          "text": [
            "Predicted Summary:\n",
            "however director lu ping and hong kong governor chris patten granted separate exclusive interviews to the information department of hong kong television broadcasts limited and expressed their opinions on some issues in dispute between china and britain the hong kong and macao affairs office of the chinese government in a dispatch released through the xinhua news agency in beijing said that all contracts leases and agreements signed and ratified by the hong kong government would be invalid after june 30 1997 unless they were first approved by china as for making the hong kong system living automatic and autonomous the relations between china and the special entity of hong kong how the two should be integrated and to what extent as well as the costs and benefits of such integration none of that has been considered at length\n",
            "\n",
            "Length of summary 138\n",
            "\n",
            "The summary sentences salience score:\n",
            "0.7110149\n",
            "0.6685624\n",
            "0.66527027\n"
          ],
          "name": "stdout"
        }
      ]
    },
    {
      "cell_type": "code",
      "metadata": {
        "id": "jVPOmdXhONCR",
        "colab_type": "code",
        "colab": {
          "base_uri": "https://localhost:8080/",
          "height": 34
        },
        "outputId": "dd547472-b688-43db-d769-caecbd8c55a3"
      },
      "source": [
        "\n",
        "!pip install rouge\n",
        "from rouge import Rouge"
      ],
      "execution_count": 39,
      "outputs": [
        {
          "output_type": "stream",
          "text": [
            "Requirement already satisfied: rouge in /usr/local/lib/python3.6/dist-packages (0.3.2)\n"
          ],
          "name": "stdout"
        }
      ]
    },
    {
      "cell_type": "code",
      "metadata": {
        "id": "m2xvr-wQM-wv",
        "colab_type": "code",
        "colab": {
          "base_uri": "https://localhost:8080/",
          "height": 88
        },
        "outputId": "0721f047-91d0-4d0e-8300-ac28a54a8f67"
      },
      "source": [
        "clusterSummaries = clusterSummaries_2001 + clusterSummaries_2002\n",
        "print('Original Summary')\n",
        "print(clusterSummaries[15])\n",
        "\n",
        "print('Length of original summary', len(clusterSummaries[15].split()))"
      ],
      "execution_count": 48,
      "outputs": [
        {
          "output_type": "stream",
          "text": [
            "Original Summary\n",
            "Hong Kong Governor Chris Patten and Lu Ping director of Chinas Office of Hong Kong and Macau Affairs generally find little agreement Lu Ping accuses Patten of duplicity and Patten sees Hong Kong operating best in its own interests free from Chinese consultation The Chinese doubt that the British want to return the colony to China The colony will become a special administrative region of China in 1997 still operating as a capitalist system under Chinas one country two systems plan The Chinese want negotiations with the British in the Preliminary Working Group but Patten wants the Joint Liaison Group \n",
            "Length of original summary 100\n"
          ],
          "name": "stdout"
        }
      ]
    },
    {
      "cell_type": "code",
      "metadata": {
        "id": "ySS8kXqd67lO",
        "colab_type": "code",
        "colab": {
          "base_uri": "https://localhost:8080/",
          "height": 85
        },
        "outputId": "151f4eb0-aa61-4d8b-a7cf-90cc8f4528a5"
      },
      "source": [
        "\n",
        "rouge = Rouge()\n",
        "scores = rouge.get_scores(summary, clusterSummaries[15])\n",
        "print('Rouge Scores')\n",
        "print(scores)\n",
        "print('Average Rouge Score')\n",
        "average = (scores[0]['rouge-1']['f'] + scores[0]['rouge-2']['f'])/2 \n",
        "print(average)"
      ],
      "execution_count": 49,
      "outputs": [
        {
          "output_type": "stream",
          "text": [
            "Rouge Scores\n",
            "[{'rouge-1': {'f': 0.16149067837043338, 'p': 0.13829787234042554, 'r': 0.19402985074626866}, 'rouge-2': {'f': 0.0, 'p': 0.0, 'r': 0.0}, 'rouge-l': {'f': 0.10600196049418763, 'p': 0.09574468085106383, 'r': 0.13432835820895522}}]\n",
            "Average Rouge Score\n",
            "0.08074533918521669\n"
          ],
          "name": "stdout"
        }
      ]
    },
    {
      "cell_type": "code",
      "metadata": {
        "id": "P4lB8QlsMuIQ",
        "colab_type": "code",
        "colab": {}
      },
      "source": [
        ""
      ],
      "execution_count": 0,
      "outputs": []
    }
  ]
}