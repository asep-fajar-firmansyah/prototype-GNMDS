{
  "nbformat": 4,
  "nbformat_minor": 0,
  "metadata": {
    "colab": {
      "name": "Demo Neural Extractive Summarization - GRU + Attn - Single Document - Sentence Classification.ipynb",
      "provenance": [],
      "collapsed_sections": [],
      "machine_shape": "hm"
    },
    "kernelspec": {
      "name": "python3",
      "display_name": "Python 3"
    }
  },
  "cells": [
    {
      "cell_type": "markdown",
      "metadata": {
        "id": "vErJHiISK_i4",
        "colab_type": "text"
      },
      "source": [
        "**Synchronize to Google Drive**\n",
        "\n",
        "This feature makes the google colab to connect to the google drive with mounting GDrive and defining the path."
      ]
    },
    {
      "cell_type": "code",
      "metadata": {
        "id": "zQhvn8KgsHSV",
        "colab_type": "code",
        "outputId": "dede2d12-d754-438e-817e-ab827d66937f",
        "colab": {
          "base_uri": "https://localhost:8080/",
          "height": 34
        }
      },
      "source": [
        "# Synchronize to google drive, define the root path\n",
        "import os\n",
        "\n",
        "google_colab  = True\n",
        "if google_colab == True:\n",
        "  #This statement used to pointing the google drive storage \n",
        "  from google.colab import drive\n",
        "  drive.mount('/content/gdrive')\n",
        "  root_path = 'gdrive/My Drive/Colab Notebooks/'\n",
        "\n",
        "  #This statement is purposed to import library from the Drive\n",
        "  os.chdir('gdrive/My Drive/Colab Notebooks/')\n",
        "  "
      ],
      "execution_count": 2,
      "outputs": [
        {
          "output_type": "stream",
          "text": [
            "Drive already mounted at /content/gdrive; to attempt to forcibly remount, call drive.mount(\"/content/gdrive\", force_remount=True).\n"
          ],
          "name": "stdout"
        }
      ]
    },
    {
      "cell_type": "code",
      "metadata": {
        "id": "xggShlKKmbXq",
        "colab_type": "code",
        "colab": {}
      },
      "source": [
        "import tensorflow as tf\n",
        "tf.enable_eager_execution()\n",
        "import numpy as np\n",
        "np.random.seed(0)\n",
        "from tensorflow.keras.layers import Input, LSTM, Embedding, Dense, Concatenate, TimeDistributed, Bidirectional, GRU, Activation, Flatten\n",
        "from tensorflow.keras.models import Model\n",
        "#from keras.models import Model\n",
        "#from keras.layers import Dense, Input, Dropout, LSTM, Activation, Flatten, GRU, Concatenate\n",
        "from tensorflow.keras.preprocessing import sequence\n",
        "from tensorflow.keras.initializers import glorot_uniform\n",
        "from tensorflow.keras.callbacks import EarlyStopping\n",
        "np.random.seed(1)"
      ],
      "execution_count": 0,
      "outputs": []
    },
    {
      "cell_type": "markdown",
      "metadata": {
        "id": "jldpyssVMSLB",
        "colab_type": "text"
      },
      "source": [
        "**Loading the dataset**\n",
        "\n",
        "Currently, The experiment is using the dataset from CNN/Daily News. It designed to support Extractive Summarization method in which extract all of documents through pre-processing and store all of sentences to cnn-sentences.pkl and each of sentence has labeled based on whether its sentence is similar or exist on the summaries/highlight (labeled 1) or no (labeled 0)"
      ]
    },
    {
      "cell_type": "code",
      "metadata": {
        "colab_type": "code",
        "outputId": "e34b34ff-6cfb-42e3-c3c0-ec5b9fe6a639",
        "id": "mwkgFuLwH3lw",
        "colab": {
          "base_uri": "https://localhost:8080/",
          "height": 70
        }
      },
      "source": [
        "import nltk\n",
        "import collections\n",
        "import pickle #data preprocessing\n",
        "from tensorflow.keras.preprocessing.text import Tokenizer\n",
        "nltk.download('punkt')\n",
        "NUM_WORDS=25000\n",
        "counter = collections.Counter()\n",
        "print('Dataset loading ...')\n",
        "#import postprocessing as pr #helper\n",
        "#Step 1 - Load data\n",
        "#Step 1 - Load data\n",
        "with open('datasets/dataset-duc2001.pkl', 'rb') as fp:\n",
        "    data_2001 = pickle.load(fp)\n",
        "\n",
        "with open('datasets/dataset-duc2002.pkl', 'rb') as fp:\n",
        "    data_2002 = pickle.load(fp)\n",
        "\n",
        "clusterSentences_2001, clusterDocuments_2001, clusterSummaries_2001, listY_2001 = data_2001\n",
        "clusterSentences_2002, clusterDocuments_2002, clusterSummaries_2002, listY_2002 = data_2002\n",
        "\n",
        "clusterSentences = clusterSentences_2001 + clusterSentences_2002\n",
        "clusterDocuments = clusterDocuments_2001 + clusterDocuments_2002\n",
        "listY = listY_2001 + listY_2002\n",
        "\n",
        "# Extract to become one bucket of sentences\n",
        "sentences = []\n",
        "for clusterSentence in clusterSentences:\n",
        "  for sentence in clusterSentence:\n",
        "    sentences.append(sentence)\n",
        "\n",
        "tokenizer = Tokenizer(num_words=NUM_WORDS,filters='!\"#$%&()*+,-./:;<=>?@[\\\\]^_`{|}~\\t\\n\\'',lower=True)\n",
        "tokenizer.fit_on_texts(sentences)\n",
        "word_index = tokenizer.word_index\n",
        "index_word = tokenizer.index_word\n",
        "index_docs = tokenizer.index_docs\n",
        "vocabularySize = len(word_index) + 1\n",
        "\n",
        "#nWord = [len(sentence.split()) for sentence in sentences]\n",
        "#nWord = sorted(nWord,  reverse=True)\n",
        "#words = [sentence.split() for sentence in sentences]\n",
        "#nWord = [len(sentence.split()) for sentence in sentences]\n",
        "#maxlen = max(nWord)\n",
        "sentenceLength = 200"
      ],
      "execution_count": 4,
      "outputs": [
        {
          "output_type": "stream",
          "text": [
            "[nltk_data] Downloading package punkt to /root/nltk_data...\n",
            "[nltk_data]   Package punkt is already up-to-date!\n",
            "Dataset loading ...\n"
          ],
          "name": "stdout"
        }
      ]
    },
    {
      "cell_type": "code",
      "metadata": {
        "id": "S3Yrk8yZAOJM",
        "colab_type": "code",
        "outputId": "bc0b164e-12a8-4549-ea86-38b64defbce3",
        "colab": {
          "base_uri": "https://localhost:8080/",
          "height": 87
        }
      },
      "source": [
        "print('total of words :', len(word_index))\n",
        "print('total of sentences', len(sentences))\n",
        "total_documents = 0\n",
        "for docs in clusterDocuments:\n",
        "  total_documents += len(docs)\n",
        "print('total of documents', total_documents)\n",
        "print('total of clusters', len(clusterSentences))"
      ],
      "execution_count": 6,
      "outputs": [
        {
          "output_type": "stream",
          "text": [
            "total of words : 30372\n",
            "total of sentences 28787\n",
            "total of documents 866\n",
            "total of clusters 89\n"
          ],
          "name": "stdout"
        }
      ]
    },
    {
      "cell_type": "markdown",
      "metadata": {
        "id": "4rCPNnRVSZIM",
        "colab_type": "text"
      },
      "source": [
        "**Load Pre-trained Word2Vec**\n",
        "\n",
        "We use gensim to load Word2Vec which is provided Google. It can be downloaded from https://code.google.com/archive/p/word2vec/"
      ]
    },
    {
      "cell_type": "code",
      "metadata": {
        "id": "rW7ocOcLs1q6",
        "colab_type": "code",
        "outputId": "01a9f15b-7b97-48e9-ab31-682ebaf8479b",
        "colab": {
          "base_uri": "https://localhost:8080/",
          "height": 72
        }
      },
      "source": [
        "from gensim.models import KeyedVectors\n",
        "WORD2VEC_MODEL = \"word-embeddings/word2vec/GoogleNews-vectors-negative300.bin.gz\"\n",
        "word2vec = KeyedVectors.load_word2vec_format(WORD2VEC_MODEL, binary=True)"
      ],
      "execution_count": 7,
      "outputs": [
        {
          "output_type": "stream",
          "text": [
            "/usr/local/lib/python3.6/dist-packages/smart_open/smart_open_lib.py:402: UserWarning: This function is deprecated, use smart_open.open instead. See the migration notes for details: https://github.com/RaRe-Technologies/smart_open/blob/master/README.rst#migrating-to-the-new-open-function\n",
            "  'See the migration notes for details: %s' % _MIGRATION_NOTES_URL\n"
          ],
          "name": "stderr"
        }
      ]
    },
    {
      "cell_type": "markdown",
      "metadata": {
        "id": "Y3jANP3eDAeR",
        "colab_type": "text"
      },
      "source": [
        "**Define Y target**\n",
        "\n",
        "Y target defined as categorical data but ideally it should be binary"
      ]
    },
    {
      "cell_type": "code",
      "metadata": {
        "id": "00p3_zy00TNY",
        "colab_type": "code",
        "outputId": "e91946ac-c8fa-47ba-9594-8542b7148e02",
        "colab": {
          "base_uri": "https://localhost:8080/",
          "height": 34
        }
      },
      "source": [
        "def convert_to_one_hot(Y, C):\n",
        "    Y = np.eye(C)[Y.reshape(-1)]\n",
        "    return Y\n",
        "    \n",
        "from keras.preprocessing.sequence import pad_sequences\n",
        "from keras.utils import np_utils\n",
        "from sklearn.model_selection import train_test_split\n",
        "xs, ys = [], []\n",
        "for sentence in sentences:\n",
        "  words = [x.lower() for x in sentence.split()]\n",
        "  wids = [word_index[word] for word in words]\n",
        "  xs.append(wids)\n",
        "\n",
        "ys = []\n",
        "for clusterY in listY:\n",
        "  for sentenceY in clusterY:\n",
        "    ys.append(sentenceY)\n",
        "\n",
        "X = pad_sequences(xs, maxlen=sentenceLength)\n",
        "Y = np.array(ys)\n",
        "Xtrain, Xtest, Ytrain, Ytest = train_test_split(X, Y, test_size=0.02, random_state=1)\n",
        "Y_train_oh = convert_to_one_hot(Ytrain, C = 2)\n",
        "Y_test_oh = convert_to_one_hot(Ytest, C = 2)\n",
        "\n",
        "\n",
        "### if want to reshape the target #############################################\n",
        "#Y_train_oh = Y_train_oh.reshape(Y_train_oh.shape[0], Y_train_oh.shape[1], 1)\n",
        "#Y_test_oh = Y_test_oh.reshape(Y_test_oh.shape[0], Y_test_oh.shape[1], 1)\n",
        "#print(Y_train_oh[0])\n",
        "#print(Y_test_oh[0])"
      ],
      "execution_count": 8,
      "outputs": [
        {
          "output_type": "stream",
          "text": [
            "Using TensorFlow backend.\n"
          ],
          "name": "stderr"
        }
      ]
    },
    {
      "cell_type": "markdown",
      "metadata": {
        "id": "UmG7pJGJUsOP",
        "colab_type": "text"
      },
      "source": [
        "**Embedding Layer**\n",
        "\n",
        "This function is used to embed pre-trained word2vec as defined before, the function is to produce the matrix from all of the sentences which were mapped to word2vec"
      ]
    },
    {
      "cell_type": "code",
      "metadata": {
        "id": "y7VbvoD5uhoz",
        "colab_type": "code",
        "colab": {}
      },
      "source": [
        "# GRADED FUNCTION: pretrained_embedding_layer\n",
        "def pretrained_embedding_layer(word_to_vec_map, word_to_index):\n",
        "    \"\"\"\n",
        "    Creates a Keras Embedding() layer and loads in pre-trained Word2Vec 300-dimensional vectors.\n",
        "    \n",
        "    Arguments:\n",
        "    word_to_vec_map -- dictionary mapping words to their Word2Vec vector representation.\n",
        "    word_to_index -- dictionary mapping from words to their indices in the vocabulary (30,372 words)\n",
        "\n",
        "    Returns:\n",
        "    embedding_layer -- pretrained layer Keras instance\n",
        "    \"\"\"\n",
        "    \n",
        "    vocab_len = len(word_to_index) + 1                  # adding 1 to fit Keras embedding (requirement)\n",
        "    emb_dim = word_to_vec_map[\"cucumber\"].shape[0]      # define dimensionality of your GloVe word vectors (= 50)\n",
        "    \n",
        "    ### START CODE HERE ###\n",
        "    # Initialize the embedding matrix as a numpy array of zeros of shape (vocab_len, dimensions of word vectors = emb_dim)\n",
        "    emb_matrix = np.zeros((vocab_len, emb_dim))\n",
        "    \n",
        "    # Set each row \"index\" of the embedding matrix to be the word vector representation of the \"index\"th word of the vocabulary\n",
        "    for word, index in word_to_index.items():\n",
        "        try:\n",
        "          emb_matrix[index, :] = word_to_vec_map[word]\n",
        "        except:\n",
        "          emb_matrix[index, :] = 0\n",
        "\n",
        "    # Define Keras embedding layer with the correct output/input sizes, make it non-trainable. Use Embedding(...). Make sure to set trainable=False. \n",
        "    embedding_layer = Embedding(vocab_len, emb_dim, trainable=False)\n",
        "    ### END CODE HERE ###\n",
        "\n",
        "    # Build the embedding layer, it is required before setting the weights of the embedding layer. Do not modify the \"None\".\n",
        "    embedding_layer.build((None,))\n",
        "    \n",
        "    # Set the weights of the embedding layer to the embedding matrix. Your layer is now pretrained.\n",
        "    embedding_layer.set_weights([emb_matrix])\n",
        "    \n",
        "    return embedding_layer"
      ],
      "execution_count": 0,
      "outputs": []
    },
    {
      "cell_type": "code",
      "metadata": {
        "id": "G72hOeIIybu6",
        "colab_type": "code",
        "colab": {}
      },
      "source": [
        "embedding_layer = pretrained_embedding_layer(word2vec, word_index)"
      ],
      "execution_count": 0,
      "outputs": []
    },
    {
      "cell_type": "markdown",
      "metadata": {
        "id": "XYT1lzx6UyQu",
        "colab_type": "text"
      },
      "source": [
        "**Attention Model**\n",
        "\n",
        "This function is implementing attention model from bahdanau \n"
      ]
    },
    {
      "cell_type": "code",
      "metadata": {
        "id": "RfRdqzDYlNKR",
        "colab_type": "code",
        "colab": {}
      },
      "source": [
        "class BahdanauAttention(tf.keras.Model):\n",
        "  def __init__(self, units):\n",
        "    super(BahdanauAttention, self).__init__()\n",
        "    self.W1 = tf.keras.layers.Dense(units)\n",
        "    self.W2 = tf.keras.layers.Dense(units)\n",
        "    self.V = tf.keras.layers.Dense(1)\n",
        "\n",
        "  def call(self, query, values):\n",
        "    # hidden shape == (batch_size, hidden size)\n",
        "    # hidden_with_time_axis shape == (batch_size, 1, hidden size)\n",
        "    # we are doing this to perform addition to calculate the score\n",
        "    hidden_with_time_axis = tf.expand_dims(query, 1)\n",
        "\n",
        "    # score shape == (batch_size, max_length, 1)\n",
        "    # we get 1 at the last axis because we are applying score to self.V\n",
        "    # the shape of the tensor before applying self.V is (batch_size, max_length, units)\n",
        "    score = self.V(tf.nn.tanh(\n",
        "        self.W1(values) + self.W2(hidden_with_time_axis)))\n",
        "\n",
        "    # attention_weights shape == (batch_size, max_length, 1)\n",
        "    salienceScores = tf.nn.softmax(score, axis=1)\n",
        "\n",
        "    # context_vector shape after sum == (batch_size, hidden_size)\n",
        "    context_vector = salienceScores * values\n",
        "    context_vector = tf.reduce_sum(context_vector, axis=1)\n",
        "\n",
        "    return context_vector, salienceScores"
      ],
      "execution_count": 0,
      "outputs": []
    },
    {
      "cell_type": "markdown",
      "metadata": {
        "id": "5Sytdg3VVGUK",
        "colab_type": "text"
      },
      "source": [
        "**Model 2 (GRU without Attention)**\n",
        "\n",
        "This model used to produce sentence embedding from a cluster document with $ N $sentences (s$_1$, s$_2$, ... , s$_N$) in total. for each sentence s$_i$ of $ L $ words (w$_1$, w$_2$, ..., w$_L$), GRU$^sent$ recurrently updates hidden states at each time step t:\n",
        "\n",
        "h$_t ^{sent} = GRU^{sent} h_{t-1} ^{sent} . w_t $ ......... (4)\n",
        "\n",
        "where w$_t$ is the word embedding for w$_t$, h$_t ^{sent}$ is the hidden state of GRU$^{sent}$. h$_0$ is initialized as a zero vector, and the input sentence embedding x$_i$ is the last hidden state :\n",
        "\n",
        "x$_i = h_L ^{sent}$ ....................................... (5)\n",
        "\n",
        "All sentence embeddings from the given document cluster are grouped as the node feature matrix X :\n",
        "\n",
        "$X = \n",
        "\\quad\n",
        "\\begin{bmatrix}\n",
        "- X_1 - \\\\\n",
        "- X_2 - \\\\\n",
        ". \\\\\n",
        ". \\\\\n",
        ". \\\\\n",
        "- X_N - \n",
        "\\end{bmatrix}$ \n",
        "\n"
      ]
    },
    {
      "cell_type": "markdown",
      "metadata": {
        "id": "hzSt_ckVVQUx",
        "colab_type": "text"
      },
      "source": [
        "**Model 3 (GRU with Attention)**"
      ]
    },
    {
      "cell_type": "code",
      "metadata": {
        "id": "CgbMZUJjTMNs",
        "colab_type": "code",
        "colab": {}
      },
      "source": [
        "import tensorflow.keras.regularizers as kr\n",
        "def model_3(input_shape, word_to_vec_map, word_to_index):\n",
        "    \"\"\"\n",
        "    Function creating the Emojify-v2 model's graph.\n",
        "    \n",
        "    Arguments:\n",
        "    input_shape -- shape of the input, usually (max_len,)\n",
        "    word_to_vec_map -- dictionary mapping every word in a vocabulary into its 50-dimensional vector representation\n",
        "    word_to_index -- dictionary mapping from words to their indices in the vocabulary (400,001 words)\n",
        "\n",
        "    Returns:\n",
        "    model -- a model instance in Keras\n",
        "    \"\"\"\n",
        "    emb_dim=300\n",
        "    encoder_inputs = Input(input_shape, dtype='int32')\n",
        "    \n",
        "    embedding_layer = pretrained_embedding_layer(word_to_vec_map, word_to_index)\n",
        "    \n",
        "    embeddings = embedding_layer(encoder_inputs)  \n",
        "    \n",
        "    # Sentence Embedding\n",
        "    kernel_regularizer = kr.l1(0.01)\n",
        "    GRUsents = GRU(300, return_sequences=True, return_state=True, dropout=0.0, recurrent_dropout=0.0, kernel_regularizer=kernel_regularizer) \n",
        "    sentence_embedding, state_h =  GRUsents(embeddings)\n",
        "    \n",
        "    # Document Embedding\n",
        "    GRUdocs = GRU(300, return_sequences=False, return_state=False)\n",
        "    document_embedding = GRUdocs(sentence_embedding)\n",
        "    \n",
        "    # Cluster Embedding\n",
        "    ##l = 1./10\n",
        "    ##l = tf.constant(l)\n",
        "    ##avgDocEmb = tf.reduce_sum(document_embedding, 0, keepdims=True)\n",
        "    ##c = tf.math.multiply(l, avgDocEmb)\n",
        "    ##cluster_emb = c\n",
        "    \n",
        "    # Attention Layer\n",
        "    units=1\n",
        "    attn_layer = BahdanauAttention(units)\n",
        "    context_vector, salienceScores = attn_layer(document_embedding, sentence_embedding) \n",
        "    #gru= GRU(300, return_sequences=False, return_state=False, dropout=0.2, recurrent_dropout=0.2) \n",
        "    #X = gru(salienceScores)\n",
        "    X = Flatten()(salienceScores)\n",
        "    X = Dense(2)(X)\n",
        "    X = Activation('softmax')(X)\n",
        "    \n",
        "    # Create Model instance which converts sentence_indices into X.\n",
        "    model = Model(inputs=encoder_inputs, outputs=X)\n",
        "    ### END CODE HERE ###\n",
        "    \n",
        "    return model"
      ],
      "execution_count": 0,
      "outputs": []
    },
    {
      "cell_type": "markdown",
      "metadata": {
        "id": "1oseRQchVY6Q",
        "colab_type": "text"
      },
      "source": [
        "**Build the model and summary**"
      ]
    },
    {
      "cell_type": "code",
      "metadata": {
        "id": "y3iLZXoX0Dco",
        "colab_type": "code",
        "outputId": "122944a9-2350-48bf-f212-e494cffaf9cb",
        "colab": {
          "base_uri": "https://localhost:8080/",
          "height": 439
        }
      },
      "source": [
        "model = model_3((X.shape[1],), word2vec, word_index)\n",
        "model.summary()\n"
      ],
      "execution_count": 14,
      "outputs": [
        {
          "output_type": "stream",
          "text": [
            "Model: \"model\"\n",
            "_________________________________________________________________\n",
            "Layer (type)                 Output Shape              Param #   \n",
            "=================================================================\n",
            "input_1 (InputLayer)         [(None, 200)]             0         \n",
            "_________________________________________________________________\n",
            "embedding_1 (Embedding)      (None, 200, 300)          9111900   \n",
            "_________________________________________________________________\n",
            "gru (GRU)                    [(None, 200, 300), (None, 540900    \n",
            "_________________________________________________________________\n",
            "gru_1 (GRU)                  (None, 300)               540900    \n",
            "_________________________________________________________________\n",
            "bahdanau_attention (Bahdanau ((None, 300), (None, 200, 604       \n",
            "_________________________________________________________________\n",
            "flatten (Flatten)            (None, 200)               0         \n",
            "_________________________________________________________________\n",
            "dense_3 (Dense)              (None, 2)                 402       \n",
            "_________________________________________________________________\n",
            "activation (Activation)      (None, 2)                 0         \n",
            "=================================================================\n",
            "Total params: 10,194,706\n",
            "Trainable params: 1,082,806\n",
            "Non-trainable params: 9,111,900\n",
            "_________________________________________________________________\n"
          ],
          "name": "stdout"
        }
      ]
    },
    {
      "cell_type": "markdown",
      "metadata": {
        "id": "u1lRfP-iVfNf",
        "colab_type": "text"
      },
      "source": [
        "**Compile the Model and Train the Model**"
      ]
    },
    {
      "cell_type": "code",
      "metadata": {
        "id": "1U52yXyq0HpT",
        "colab_type": "code",
        "colab": {}
      },
      "source": [
        "from tensorflow.keras.optimizers import Adam\n",
        "model.compile(loss='categorical_crossentropy', optimizer=Adam(lr=0.001, clipnorm=1.0), metrics=['accuracy'])"
      ],
      "execution_count": 0,
      "outputs": []
    },
    {
      "cell_type": "code",
      "metadata": {
        "id": "3I6Z-Z551GP3",
        "colab_type": "code",
        "outputId": "b28ca853-e5c5-4c50-8e2d-5ed2b9c0d536",
        "colab": {
          "base_uri": "https://localhost:8080/",
          "height": 811
        }
      },
      "source": [
        "es = EarlyStopping(monitor='val_loss', mode='min', verbose=1)\n",
        "history = model.fit(Xtrain,Y_train_oh, epochs = 50, batch_size = 512, validation_data=(Xtest, Y_test_oh), callbacks=[es])\n",
        "score = model.evaluate(Xtest, Y_test_oh, verbose=1)\n",
        "print(\"Test score: {:.3f}, accuracy: {:.3f}\".format(score[0], score[1]))\n",
        "\n",
        "with open('rnn/models/model2-trainHistoryDict', 'wb') as file_pi:\n",
        "  pickle.dump(history.history, file_pi)\n",
        "  print(\"Saved training history to disk\")"
      ],
      "execution_count": 16,
      "outputs": [
        {
          "output_type": "stream",
          "text": [
            "Train on 28211 samples, validate on 576 samples\n",
            "Epoch 1/50\n",
            "WARNING:tensorflow:From /usr/local/lib/python3.6/dist-packages/tensorflow_core/python/ops/math_grad.py:1424: where (from tensorflow.python.ops.array_ops) is deprecated and will be removed in a future version.\n",
            "Instructions for updating:\n",
            "Use tf.where in 2.0, which has the same broadcast rule as np.where\n",
            "28211/28211 [==============================] - 573s 20ms/sample - loss: 42.8681 - acc: 0.8949 - val_loss: 6.4242 - val_acc: 0.9375\n",
            "Epoch 2/50\n",
            "28211/28211 [==============================] - 561s 20ms/sample - loss: 2.0639 - acc: 0.9438 - val_loss: 0.9283 - val_acc: 0.9375\n",
            "Epoch 3/50\n",
            "28211/28211 [==============================] - 561s 20ms/sample - loss: 0.8463 - acc: 0.9438 - val_loss: 0.8086 - val_acc: 0.9375\n",
            "Epoch 4/50\n",
            "28211/28211 [==============================] - 560s 20ms/sample - loss: 0.7783 - acc: 0.9438 - val_loss: 0.7597 - val_acc: 0.9375\n",
            "Epoch 5/50\n",
            "28211/28211 [==============================] - 559s 20ms/sample - loss: 0.7339 - acc: 0.9438 - val_loss: 0.7210 - val_acc: 0.9375\n",
            "Epoch 6/50\n",
            "28211/28211 [==============================] - 554s 20ms/sample - loss: 0.6993 - acc: 0.9438 - val_loss: 0.6910 - val_acc: 0.9375\n",
            "Epoch 7/50\n",
            "28211/28211 [==============================] - 555s 20ms/sample - loss: 0.6708 - acc: 0.9438 - val_loss: 0.6670 - val_acc: 0.9375\n",
            "Epoch 8/50\n",
            "28211/28211 [==============================] - 553s 20ms/sample - loss: 0.6481 - acc: 0.9438 - val_loss: 0.6454 - val_acc: 0.9375\n",
            "Epoch 9/50\n",
            "28211/28211 [==============================] - 552s 20ms/sample - loss: 0.6304 - acc: 0.9438 - val_loss: 0.6329 - val_acc: 0.9375\n",
            "Epoch 10/50\n",
            "28211/28211 [==============================] - 553s 20ms/sample - loss: 0.6154 - acc: 0.9438 - val_loss: 0.6183 - val_acc: 0.9375\n",
            "Epoch 11/50\n",
            "28211/28211 [==============================] - 554s 20ms/sample - loss: 0.6037 - acc: 0.9438 - val_loss: 0.6080 - val_acc: 0.9375\n",
            "Epoch 12/50\n",
            "28211/28211 [==============================] - 554s 20ms/sample - loss: 0.5939 - acc: 0.9438 - val_loss: 0.6037 - val_acc: 0.9375\n",
            "Epoch 13/50\n",
            "28211/28211 [==============================] - 556s 20ms/sample - loss: 0.5863 - acc: 0.9438 - val_loss: 0.5957 - val_acc: 0.9375\n",
            "Epoch 14/50\n",
            "28211/28211 [==============================] - 555s 20ms/sample - loss: 0.5799 - acc: 0.9438 - val_loss: 0.5913 - val_acc: 0.9375\n",
            "Epoch 15/50\n",
            "28211/28211 [==============================] - 553s 20ms/sample - loss: 0.5750 - acc: 0.9438 - val_loss: 0.5847 - val_acc: 0.9375\n",
            "Epoch 16/50\n",
            "28211/28211 [==============================] - 554s 20ms/sample - loss: 0.5705 - acc: 0.9438 - val_loss: 0.5821 - val_acc: 0.9375\n",
            "Epoch 17/50\n",
            "28211/28211 [==============================] - 555s 20ms/sample - loss: 0.5671 - acc: 0.9438 - val_loss: 0.5784 - val_acc: 0.9375\n",
            "Epoch 18/50\n",
            "28211/28211 [==============================] - 554s 20ms/sample - loss: 0.5644 - acc: 0.9438 - val_loss: 0.5790 - val_acc: 0.9375\n",
            "Epoch 00018: early stopping\n",
            "576/1 [================================================================================================================================================================================================================================================================================================================================================================================================================================================================================================================================================================================================================================================================================================================================================================================================================================================================================================================================================================================================================================================================================================================================================================================================================================================================================================================================================================================================================================================================================================================================================================================================================================================================================================================================================================================================================================================================================================================================================================================================================================================================================================================================================================================================================================================================================================================================================================================================================================================================================================================================================================================================================================================================================================================================================================================================================================================================================================================================================================================================================================================================================================================================================================================================================================================================================================================================================================================================================================================================================================================================================================================================================================================================================================================================================================================================================================================================================================================================================================================================================================================================================================================================================================================================================================================================================================================================================================================================================================================================================================================================================================================================================================================================================================================================================================================================================================================================================================================================================================================================================================================================================================================================================================================================================================================================================================================================================================================================================================================================================================================================================================================================================================================================================================================================================================================================================================================================================================================================================================================================================================================================================================================================================================================================================================================================================================================================================================================================================================================================================================================================================================================================================================================================================================================================================================================================================================================================================================================================================================================================================================================================================================================================================================================================================================================================================================================================================================================================================================================================================================================================================================================================================================================================================================================================================================================================================================================================================================================================================================================================================================================================================================================================================================================================================================================================================================================================================================================================================================================================================================================================================================================================================================================================================================================================================================================================================================================================================================================================================================================================================================================================================================================================================================================================================================================================================================================================================================================================================================================================================================================================================================================================================================================================================================================================================================================================================================================================================================================================================================================================================================================================================================================================================================================================================================================================================================================================================================================================================================================================================================================================================================================================================================================================================================================================================================================================================================================================================================================================================================================================================================================================================================================================================================================================================================================================================================================================================================================================================================================================================================================================================================================================================================================================================================================================================================================================================================================================================================================================================================================================================================================================================================================================================================================================================================================================================================================================================================================================================================================================================================================================================================================================================================================================================================================================================================================================================================================================================================================================================================================================================================================================================================================================================================================================================================================================================================================================================================================================================================================================================================================================================================================================================================================================================================================================================================================================================================================================================================================================================================================================================================================================================================================================================================================================================================================================================================================================================================================================================================================================================================================================================================================================================================================================================================================================================================================================================================================================================================================================================================================================================================================================================================================================================================================================================================================================================================================================================================================================================================================================================================================================================================================================================================================================================================================================================================================================================================================================================================================================================================================================================================================================================================================================================================================================================================================================================================================================================================================================================================================================================================================================================================================================================================================================================================================================================================================================================================================================================================================================================================================================================================================================================================================================================================================================================================================================================================================================================================================================================================================================================================================================================================================================================================================================================================================================================================================================================================================================================================================================================================================================] - 8s 15ms/sample - loss: 0.5095 - acc: 0.9375\n",
            "Test score: 0.579, accuracy: 0.938\n",
            "Saved training history to disk\n"
          ],
          "name": "stdout"
        }
      ]
    },
    {
      "cell_type": "code",
      "metadata": {
        "id": "8CZMK2m41g_L",
        "colab_type": "code",
        "outputId": "0c749b09-0d2b-4f2e-e0e7-d534dc2241eb",
        "colab": {
          "base_uri": "https://localhost:8080/",
          "height": 577
        }
      },
      "source": [
        "from matplotlib import pyplot\n",
        "fig = pyplot.figure()\n",
        "pyplot.plot(history.history['loss'], label='train') \n",
        "pyplot.plot(history.history['val_loss'], label='test') \n",
        "pyplot.title('Training and validation loss')\n",
        "pyplot.xlabel('Épochs')\n",
        "pyplot.ylabel('Loss')\n",
        "pyplot.legend() \n",
        "pyplot.show()\n",
        "#fname='training-and-validation-loss-model2.jpg'\n",
        "#fig.savefig(fname)\n",
        "\n",
        "fig2 = pyplot.figure()\n",
        "pyplot.plot(history.history['acc'], label='train') \n",
        "pyplot.plot(history.history['val_acc'], label='test') \n",
        "pyplot.title('Training and validation accuracy')\n",
        "pyplot.xlabel('Épochs')\n",
        "pyplot.ylabel('Accuracy')\n",
        "pyplot.legend(loc='lower right')\n",
        "pyplot.ylim((0.5, 1))\n",
        "pyplot.show()\n",
        "#fname='training-and-validation-accuracy-model2.jpg'\n",
        "#fig2.savefig(fname)"
      ],
      "execution_count": 17,
      "outputs": [
        {
          "output_type": "display_data",
          "data": {
            "image/png": "[encoded data removed]",
            "text/plain": [
              "<Figure size 432x288 with 1 Axes>"
            ]
          },
          "metadata": {
            "tags": []
          }
        },
        {
          "output_type": "display_data",
          "data": {
            "image/png": "[encoded data removed]",
            "text/plain": [
              "<Figure size 432x288 with 1 Axes>"
            ]
          },
          "metadata": {
            "tags": []
          }
        }
      ]
    },
    {
      "cell_type": "markdown",
      "metadata": {
        "id": "EET2jJrdVsyG",
        "colab_type": "text"
      },
      "source": [
        "**Model Prediction**"
      ]
    },
    {
      "cell_type": "code",
      "metadata": {
        "id": "d63JR7ReDXEe",
        "colab_type": "code",
        "outputId": "02b799c9-3fcb-40de-de7e-d13afa79b666",
        "colab": {
          "base_uri": "https://localhost:8080/",
          "height": 213
        }
      },
      "source": [
        "test_docs = clusterSentences[15]\n",
        "xs_test=[]\n",
        "#print(len(test_docs))\n",
        "for sentence in test_docs:\n",
        "  words = [x.lower() for x in nltk.word_tokenize(sentence)]\n",
        "  wids = [word_index[word] for word in words]\n",
        "  xs_test.append(wids)\n",
        "X_Test = pad_sequences(xs_test, maxlen=sentenceLength)\n",
        "Y_Test = np.array(listY[0])\n",
        "pred = model.predict(X_Test)\n",
        "sentence_test = []\n",
        "salience_score_list = {}\n",
        "score_list = []\n",
        "for i in range(len(X_Test)):\n",
        "    num = np.argmax(pred[i])\n",
        "    pred_num = pred[i]\n",
        "    sentence_list = []\n",
        "    for idx in X_Test[i]:\n",
        "      if idx != 0:\n",
        "        sentence_list.append(index_word[idx])\n",
        "    sentence_list = ' '.join(sentence_list)\n",
        "    salience_score_list[sentence_list] = pred_num[1]\n",
        "    sentence_test.append(sentence_list)\n",
        "\n",
        "ordering = sorted(salience_score_list, key=lambda k: salience_score_list[k],  reverse=True)\n",
        "summary_list = []\n",
        "sentence_length = 0\n",
        "for sent in ordering:\n",
        "  length = len(sent.split())\n",
        "  if (length > 5 and length < 55):\n",
        "    if sentence_length <= 88:\n",
        "      #print(len(sent.split()))\n",
        "      summary_list.append(sent)\n",
        "      sentence_length += length\n",
        "summary = ' '.join(summary_list)\n",
        "print('Predicted Summary:')\n",
        "print(summary)\n",
        "print()\n",
        "print('Length of summary',len(summary.split()))\n",
        "print()\n",
        "print('The summary sentences salience score:')\n",
        "for sent in summary_list:\n",
        "  print(salience_score_list[sent])"
      ],
      "execution_count": 18,
      "outputs": [
        {
          "output_type": "stream",
          "text": [
            "Predicted Summary:\n",
            "we feel there is no need to do so sentence as heard patten i must say that like the overwhelming majority of people in hong kong like a number of members of the pwc i think it is a great pity that we are as it were communicating through television rather than sitting down at the table talking to one another end recording anchorman yuan chiwei good evening lu ping director of the hong kong and macao affairs office of the chinese state council has been visiting hong kong in the capacity of secretary general and vice chairman of the pwc\n",
            "\n",
            "Length of summary 101\n",
            "\n",
            "The summary sentences salience score:\n",
            "0.09763467\n",
            "0.09763467\n",
            "0.09763467\n",
            "0.09763467\n"
          ],
          "name": "stdout"
        }
      ]
    },
    {
      "cell_type": "code",
      "metadata": {
        "id": "CJAJXYLz7LgF",
        "colab_type": "code",
        "colab": {
          "base_uri": "https://localhost:8080/",
          "height": 87
        },
        "outputId": "4791ecfe-1fd2-4709-8c5e-80679dab4bac"
      },
      "source": [
        "\n",
        "!pip install rouge\n",
        "from rouge import Rouge"
      ],
      "execution_count": 19,
      "outputs": [
        {
          "output_type": "stream",
          "text": [
            "Collecting rouge\n",
            "  Downloading https://files.pythonhosted.org/packages/63/ac/b93411318529980ab7f41e59ed64ec3ffed08ead32389e29eb78585dd55d/rouge-0.3.2-py3-none-any.whl\n",
            "Installing collected packages: rouge\n",
            "Successfully installed rouge-0.3.2\n"
          ],
          "name": "stdout"
        }
      ]
    },
    {
      "cell_type": "code",
      "metadata": {
        "id": "vTHfra0sQIKZ",
        "colab_type": "code",
        "colab": {
          "base_uri": "https://localhost:8080/",
          "height": 90
        },
        "outputId": "fda10e4a-81d7-4dc5-9447-8014c0d61947"
      },
      "source": [
        "clusterSummaries = clusterSummaries_2001 + clusterSummaries_2002\n",
        "print('Original Summary')\n",
        "print(clusterSummaries[15])\n",
        "\n",
        "print('Length of original summary', len(clusterSummaries[15].split()))"
      ],
      "execution_count": 20,
      "outputs": [
        {
          "output_type": "stream",
          "text": [
            "Original Summary\n",
            "Hong Kong Governor Chris Patten and Lu Ping director of Chinas Office of Hong Kong and Macau Affairs generally find little agreement Lu Ping accuses Patten of duplicity and Patten sees Hong Kong operating best in its own interests free from Chinese consultation The Chinese doubt that the British want to return the colony to China The colony will become a special administrative region of China in 1997 still operating as a capitalist system under Chinas one country two systems plan The Chinese want negotiations with the British in the Preliminary Working Group but Patten wants the Joint Liaison Group \n",
            "Length of original summary 100\n"
          ],
          "name": "stdout"
        }
      ]
    },
    {
      "cell_type": "code",
      "metadata": {
        "id": "Pqgl6KfMQL98",
        "colab_type": "code",
        "colab": {
          "base_uri": "https://localhost:8080/",
          "height": 107
        },
        "outputId": "02118b55-3612-4279-c374-b5fbe5b43283"
      },
      "source": [
        "\n",
        "rouge = Rouge()\n",
        "scores = rouge.get_scores(summary, clusterSummaries[15])\n",
        "print('Rouge Scores')\n",
        "print(scores)\n",
        "print('Average Rouge Score')\n",
        "average = (scores[0]['rouge-1']['f'] + scores[0]['rouge-2']['f'])/2 \n",
        "print(average)"
      ],
      "execution_count": 21,
      "outputs": [
        {
          "output_type": "stream",
          "text": [
            "Rouge Scores\n",
            "[{'rouge-1': {'f': 0.1428571378663267, 'p': 0.136986301369863, 'r': 0.14925373134328357}, 'rouge-2': {'f': 0.021276590744682026, 'p': 0.02127659574468085, 'r': 0.02127659574468085}, 'rouge-l': {'f': 0.07116761866044409, 'p': 0.0684931506849315, 'r': 0.07462686567164178}}]\n",
            "Average Rouge Score\n",
            "0.08206686430550436\n"
          ],
          "name": "stdout"
        }
      ]
    }
  ]
}